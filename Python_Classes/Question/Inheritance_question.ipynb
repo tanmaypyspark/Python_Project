{
 "cells": [
  {
   "cell_type": "markdown",
   "metadata": {},
   "source": [
    "##imple Inheritance"
   ]
  },
  {
   "cell_type": "code",
   "execution_count": 3,
   "metadata": {},
   "outputs": [
    {
     "name": "stdout",
     "output_type": "stream",
     "text": [
      "Bark\n"
     ]
    }
   ],
   "source": [
    "class Animal:\n",
    "    def sound(self):\n",
    "        return 'Some Sound'\n",
    "class Dog(Animal):\n",
    "    def sound(self):\n",
    "        return 'Bark'\n",
    "\n",
    "obj = Dog()\n",
    "print(obj.sound()) ## Bark"
   ]
  },
  {
   "cell_type": "markdown",
   "metadata": {},
   "source": [
    "%%markdown\n",
    "#Dimond Inheritance"
   ]
  },
  {
   "cell_type": "code",
   "execution_count": 6,
   "metadata": {},
   "outputs": [
    {
     "name": "stdout",
     "output_type": "stream",
     "text": [
      "B\n"
     ]
    }
   ],
   "source": [
    "class A:\n",
    "    def show(self):\n",
    "        return 'A'\n",
    "class B(A):\n",
    "    def show(self):\n",
    "        return 'B'\n",
    "class C(A):\n",
    "    def show(self):\n",
    "        return 'C'\n",
    "class D(B,C):\n",
    "        pass\n",
    "\n",
    "obj = D()\n",
    "print(obj.show()) ##"
   ]
  },
  {
   "cell_type": "code",
   "execution_count": 8,
   "metadata": {},
   "outputs": [
    {
     "name": "stdout",
     "output_type": "stream",
     "text": [
      "B\n"
     ]
    }
   ],
   "source": [
    "#MRO\n",
    "class A:\n",
    "    def process(self):\n",
    "        return 'A'\n",
    "class B(A):\n",
    "    def process(self):\n",
    "        return 'B'\n",
    "class C(A):\n",
    "    def process(self):\n",
    "        return 'C'\n",
    "class D(B,C):\n",
    "        pass\n",
    "\n",
    "obj = D()\n",
    "print(obj.process()) ##B"
   ]
  },
  {
   "cell_type": "code",
   "execution_count": 9,
   "metadata": {},
   "outputs": [
    {
     "name": "stdout",
     "output_type": "stream",
     "text": [
      "B\n"
     ]
    }
   ],
   "source": [
    "##Overriding and MRO\n",
    "\n",
    "class A:\n",
    "    def __init__(self):\n",
    "        self.value ='A'\n",
    "class B(A):\n",
    "    def __init__(self):\n",
    "        super().__init__()\n",
    "        self.value = 'B'\n",
    "\n",
    "class C(A):\n",
    "    def __init__(self):\n",
    "        super().__init__()\n",
    "        self.value =  'C'\n",
    "\n",
    "class D(B,C):\n",
    "        def __init__(self):\n",
    "             super().__init__()\n",
    "\n",
    "obj = D()\n",
    "print(obj.value) ##"
   ]
  },
  {
   "cell_type": "code",
   "execution_count": 10,
   "metadata": {},
   "outputs": [
    {
     "data": {
      "text/plain": [
       "[__main__.D, __main__.B, __main__.C, __main__.A, object]"
      ]
     },
     "execution_count": 10,
     "metadata": {},
     "output_type": "execute_result"
    }
   ],
   "source": [
    "D.mro()"
   ]
  },
  {
   "cell_type": "code",
   "execution_count": null,
   "metadata": {},
   "outputs": [],
   "source": []
  }
 ],
 "metadata": {
  "kernelspec": {
   "display_name": "Python 3",
   "language": "python",
   "name": "python3"
  },
  "language_info": {
   "codemirror_mode": {
    "name": "ipython",
    "version": 3
   },
   "file_extension": ".py",
   "mimetype": "text/x-python",
   "name": "python",
   "nbconvert_exporter": "python",
   "pygments_lexer": "ipython3",
   "version": "3.10.11"
  }
 },
 "nbformat": 4,
 "nbformat_minor": 2
}
